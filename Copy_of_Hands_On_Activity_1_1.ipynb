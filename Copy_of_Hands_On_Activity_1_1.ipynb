{
  "nbformat": 4,
  "nbformat_minor": 0,
  "metadata": {
    "colab": {
      "provenance": [],
      "include_colab_link": true
    },
    "kernelspec": {
      "name": "python3",
      "display_name": "Python 3"
    },
    "language_info": {
      "name": "python"
    }
  },
  "cells": [
    {
      "cell_type": "markdown",
      "metadata": {
        "id": "view-in-github",
        "colab_type": "text"
      },
      "source": [
        "<a href=\"https://colab.research.google.com/github/Clirmoo/Big-Data-Engineering/blob/main/Copy_of_Hands_On_Activity_1_1.ipynb\" target=\"_parent\"><img src=\"https://colab.research.google.com/assets/colab-badge.svg\" alt=\"Open In Colab\"/></a>"
      ]
    },
    {
      "cell_type": "markdown",
      "source": [
        "# Hands-On-Activity-1.1"
      ],
      "metadata": {
        "id": "I6Q6SR6o27Hw"
      }
    },
    {
      "cell_type": "markdown",
      "source": [
        "## Objective(s)\n",
        "The objective of this activity is to familiarize students with PySpark and Google Colab by setting up a foundational big data environment suitable for distributed data processing."
      ],
      "metadata": {
        "id": "G5VxqWsX5EK7"
      }
    },
    {
      "cell_type": "markdown",
      "source": [
        "## Intended Learning Outcomes\n",
        "\n",
        "At the end of this activity, the students should be able to:\n",
        "\n",
        "\n",
        "*   Analyze how PySpark handles data processing compared to traditional tools.\n",
        "*   Evaluate the benefits of distributed computing using simulated large-scale operations.\n",
        "*   Create a basic data processing workflow using PySpark DataFrames on Google Colab\n",
        "\n"
      ],
      "metadata": {
        "id": "13hXRFk75CCG"
      }
    },
    {
      "cell_type": "markdown",
      "source": [
        "## Discussion\n",
        "\n",
        "**What is PySpark?**\n",
        "\n",
        "Apache Spark is an open-source, distributed computing system designed for fast processing of large-scale data. PySpark is the Python interface for Apache Spark. It handles large datasets efficiently with parallel computation in Python workflows, ideal for batch processing, real-time streaming, machine learning, data analytics, and SQL querying. PySpark supports industries like finance, healthcare, and e-commerce with speed and scalability.\n",
        "\n",
        "\n",
        "**Spark Cluster**\n",
        "\n",
        "\n",
        "A key component of working with PySpark is clusters. A Spark cluster is a group of computers (nodes) that collaboratively process large datasets using Apache Spark, with a master node coordinating multiple worker nodes. This architecture enables distributed processing. The master node manages resources and tasks, while worker nodes execute assigned compute tasks.\n",
        "\n",
        "\n",
        "**Spark Session**\n",
        "\n",
        "\n",
        "A SparkSession is the entry point into PySpark, enabling interaction with Apache Spark's core capabilities. It allows us to execute queries, process data, and manage resources in the Spark cluster."
      ],
      "metadata": {
        "id": "m9qJStw-5CcI"
      }
    },
    {
      "cell_type": "markdown",
      "source": [
        "## Materials and Equipment\n",
        "\n",
        "\n",
        "*   Internet connection\n",
        "*   Google Colab\n",
        "*   Personal Computer\n",
        "\n"
      ],
      "metadata": {
        "id": "2F2HiO2G5Ce-"
      }
    },
    {
      "cell_type": "markdown",
      "source": [
        "## Procedure"
      ],
      "metadata": {
        "id": "cIiQRyJi53bL"
      }
    },
    {
      "cell_type": "markdown",
      "source": [
        "Importing Google Colab and Initializationof SparkSession"
      ],
      "metadata": {
        "id": "jL_NQHqo56Mh"
      }
    },
    {
      "cell_type": "code",
      "execution_count": null,
      "metadata": {
        "colab": {
          "base_uri": "https://localhost:8080/"
        },
        "id": "-qWF0Whm2rji",
        "outputId": "d4ebc8c7-cff1-4440-d417-e28bd356c5a5"
      },
      "outputs": [
        {
          "output_type": "stream",
          "name": "stdout",
          "text": [
            "<pyspark.sql.session.SparkSession object at 0x78e4ac18a110>\n"
          ]
        }
      ],
      "source": [
        "from pyspark.sql import SparkSession\n",
        "my_spark = SparkSession.builder.appName(\"my_spark\").getOrCreate()\n",
        "print(my_spark)"
      ]
    },
    {
      "cell_type": "markdown",
      "source": [
        "### Data Loading"
      ],
      "metadata": {
        "id": "Bn9SmAXD6B-R"
      }
    },
    {
      "cell_type": "code",
      "source": [
        "from google.colab import drive\n",
        "drive.mount('/content/drive')"
      ],
      "metadata": {
        "id": "FG6gIF4773sb",
        "colab": {
          "base_uri": "https://localhost:8080/",
          "height": 304
        },
        "outputId": "1480c8f9-4d4b-4d6b-9f64-a138b2d59c5b"
      },
      "execution_count": null,
      "outputs": [
        {
          "output_type": "error",
          "ename": "MessageError",
          "evalue": "Error: credential propagation was unsuccessful",
          "traceback": [
            "\u001b[0;31m---------------------------------------------------------------------------\u001b[0m",
            "\u001b[0;31mMessageError\u001b[0m                              Traceback (most recent call last)",
            "\u001b[0;32m/tmp/ipython-input-41-1408506528.py\u001b[0m in \u001b[0;36m<cell line: 0>\u001b[0;34m()\u001b[0m\n\u001b[1;32m      1\u001b[0m \u001b[0;32mfrom\u001b[0m \u001b[0mgoogle\u001b[0m\u001b[0;34m.\u001b[0m\u001b[0mcolab\u001b[0m \u001b[0;32mimport\u001b[0m \u001b[0mdrive\u001b[0m\u001b[0;34m\u001b[0m\u001b[0;34m\u001b[0m\u001b[0m\n\u001b[0;32m----> 2\u001b[0;31m \u001b[0mdrive\u001b[0m\u001b[0;34m.\u001b[0m\u001b[0mmount\u001b[0m\u001b[0;34m(\u001b[0m\u001b[0;34m'/content/drive'\u001b[0m\u001b[0;34m)\u001b[0m\u001b[0;34m\u001b[0m\u001b[0;34m\u001b[0m\u001b[0m\n\u001b[0m",
            "\u001b[0;32m/usr/local/lib/python3.11/dist-packages/google/colab/drive.py\u001b[0m in \u001b[0;36mmount\u001b[0;34m(mountpoint, force_remount, timeout_ms, readonly)\u001b[0m\n\u001b[1;32m     98\u001b[0m \u001b[0;32mdef\u001b[0m \u001b[0mmount\u001b[0m\u001b[0;34m(\u001b[0m\u001b[0mmountpoint\u001b[0m\u001b[0;34m,\u001b[0m \u001b[0mforce_remount\u001b[0m\u001b[0;34m=\u001b[0m\u001b[0;32mFalse\u001b[0m\u001b[0;34m,\u001b[0m \u001b[0mtimeout_ms\u001b[0m\u001b[0;34m=\u001b[0m\u001b[0;36m120000\u001b[0m\u001b[0;34m,\u001b[0m \u001b[0mreadonly\u001b[0m\u001b[0;34m=\u001b[0m\u001b[0;32mFalse\u001b[0m\u001b[0;34m)\u001b[0m\u001b[0;34m:\u001b[0m\u001b[0;34m\u001b[0m\u001b[0;34m\u001b[0m\u001b[0m\n\u001b[1;32m     99\u001b[0m   \u001b[0;34m\"\"\"Mount your Google Drive at the specified mountpoint path.\"\"\"\u001b[0m\u001b[0;34m\u001b[0m\u001b[0;34m\u001b[0m\u001b[0m\n\u001b[0;32m--> 100\u001b[0;31m   return _mount(\n\u001b[0m\u001b[1;32m    101\u001b[0m       \u001b[0mmountpoint\u001b[0m\u001b[0;34m,\u001b[0m\u001b[0;34m\u001b[0m\u001b[0;34m\u001b[0m\u001b[0m\n\u001b[1;32m    102\u001b[0m       \u001b[0mforce_remount\u001b[0m\u001b[0;34m=\u001b[0m\u001b[0mforce_remount\u001b[0m\u001b[0;34m,\u001b[0m\u001b[0;34m\u001b[0m\u001b[0;34m\u001b[0m\u001b[0m\n",
            "\u001b[0;32m/usr/local/lib/python3.11/dist-packages/google/colab/drive.py\u001b[0m in \u001b[0;36m_mount\u001b[0;34m(mountpoint, force_remount, timeout_ms, ephemeral, readonly)\u001b[0m\n\u001b[1;32m    135\u001b[0m   )\n\u001b[1;32m    136\u001b[0m   \u001b[0;32mif\u001b[0m \u001b[0mephemeral\u001b[0m\u001b[0;34m:\u001b[0m\u001b[0;34m\u001b[0m\u001b[0;34m\u001b[0m\u001b[0m\n\u001b[0;32m--> 137\u001b[0;31m     _message.blocking_request(\n\u001b[0m\u001b[1;32m    138\u001b[0m         \u001b[0;34m'request_auth'\u001b[0m\u001b[0;34m,\u001b[0m\u001b[0;34m\u001b[0m\u001b[0;34m\u001b[0m\u001b[0m\n\u001b[1;32m    139\u001b[0m         \u001b[0mrequest\u001b[0m\u001b[0;34m=\u001b[0m\u001b[0;34m{\u001b[0m\u001b[0;34m'authType'\u001b[0m\u001b[0;34m:\u001b[0m \u001b[0;34m'dfs_ephemeral'\u001b[0m\u001b[0;34m}\u001b[0m\u001b[0;34m,\u001b[0m\u001b[0;34m\u001b[0m\u001b[0;34m\u001b[0m\u001b[0m\n",
            "\u001b[0;32m/usr/local/lib/python3.11/dist-packages/google/colab/_message.py\u001b[0m in \u001b[0;36mblocking_request\u001b[0;34m(request_type, request, timeout_sec, parent)\u001b[0m\n\u001b[1;32m    174\u001b[0m       \u001b[0mrequest_type\u001b[0m\u001b[0;34m,\u001b[0m \u001b[0mrequest\u001b[0m\u001b[0;34m,\u001b[0m \u001b[0mparent\u001b[0m\u001b[0;34m=\u001b[0m\u001b[0mparent\u001b[0m\u001b[0;34m,\u001b[0m \u001b[0mexpect_reply\u001b[0m\u001b[0;34m=\u001b[0m\u001b[0;32mTrue\u001b[0m\u001b[0;34m\u001b[0m\u001b[0;34m\u001b[0m\u001b[0m\n\u001b[1;32m    175\u001b[0m   )\n\u001b[0;32m--> 176\u001b[0;31m   \u001b[0;32mreturn\u001b[0m \u001b[0mread_reply_from_input\u001b[0m\u001b[0;34m(\u001b[0m\u001b[0mrequest_id\u001b[0m\u001b[0;34m,\u001b[0m \u001b[0mtimeout_sec\u001b[0m\u001b[0;34m)\u001b[0m\u001b[0;34m\u001b[0m\u001b[0;34m\u001b[0m\u001b[0m\n\u001b[0m",
            "\u001b[0;32m/usr/local/lib/python3.11/dist-packages/google/colab/_message.py\u001b[0m in \u001b[0;36mread_reply_from_input\u001b[0;34m(message_id, timeout_sec)\u001b[0m\n\u001b[1;32m    101\u001b[0m     ):\n\u001b[1;32m    102\u001b[0m       \u001b[0;32mif\u001b[0m \u001b[0;34m'error'\u001b[0m \u001b[0;32min\u001b[0m \u001b[0mreply\u001b[0m\u001b[0;34m:\u001b[0m\u001b[0;34m\u001b[0m\u001b[0;34m\u001b[0m\u001b[0m\n\u001b[0;32m--> 103\u001b[0;31m         \u001b[0;32mraise\u001b[0m \u001b[0mMessageError\u001b[0m\u001b[0;34m(\u001b[0m\u001b[0mreply\u001b[0m\u001b[0;34m[\u001b[0m\u001b[0;34m'error'\u001b[0m\u001b[0;34m]\u001b[0m\u001b[0;34m)\u001b[0m\u001b[0;34m\u001b[0m\u001b[0;34m\u001b[0m\u001b[0m\n\u001b[0m\u001b[1;32m    104\u001b[0m       \u001b[0;32mreturn\u001b[0m \u001b[0mreply\u001b[0m\u001b[0;34m.\u001b[0m\u001b[0mget\u001b[0m\u001b[0;34m(\u001b[0m\u001b[0;34m'data'\u001b[0m\u001b[0;34m,\u001b[0m \u001b[0;32mNone\u001b[0m\u001b[0;34m)\u001b[0m\u001b[0;34m\u001b[0m\u001b[0;34m\u001b[0m\u001b[0m\n\u001b[1;32m    105\u001b[0m \u001b[0;34m\u001b[0m\u001b[0m\n",
            "\u001b[0;31mMessageError\u001b[0m: Error: credential propagation was unsuccessful"
          ]
        }
      ]
    },
    {
      "cell_type": "code",
      "source": [
        "username_df = my_spark.read.csv(\"/content/username.csv\", header=True, inferSchema=True) ## TODO: Change path according to your folder setup\n",
        "username_df.show()"
      ],
      "metadata": {
        "colab": {
          "base_uri": "https://localhost:8080/"
        },
        "id": "_O0jiFy526yS",
        "outputId": "0129d6e2-2abb-44be-f126-adc3e8e1374a"
      },
      "execution_count": null,
      "outputs": [
        {
          "output_type": "stream",
          "name": "stdout",
          "text": [
            "+---------------+----------+----------+---------+\n",
            "|       Username|Identifier|First Name|Last Name|\n",
            "+---------------+----------+----------+---------+\n",
            "|  graylooker123|      1002|    Robert|  Jenkins|\n",
            "|    ironlord982|      1003|     Linux| Cromwell|\n",
            "|  skyrimlord023|      1004| Cassandra|    Ramos|\n",
            "|wannabefortnite|      1005|    Joseph|   Pandas|\n",
            "|    smithSummer|      1006|    Tensor|     Flow|\n",
            "+---------------+----------+----------+---------+\n",
            "\n"
          ]
        }
      ]
    },
    {
      "cell_type": "markdown",
      "source": [
        "Follow up question, what happens when you run this code?"
      ],
      "metadata": {
        "id": "WqH3y_us3WRh"
      }
    },
    {
      "cell_type": "markdown",
      "source": [
        "\n",
        "\n",
        "```\n",
        "# This is formatted as code\n",
        "```\n",
        "\n",
        "**When I run the code the output will be an error because the file path is incorrect or does not exist at all.**"
      ],
      "metadata": {
        "id": "P0KwJov629C0"
      }
    },
    {
      "cell_type": "markdown",
      "source": [
        "count the number of rows"
      ],
      "metadata": {
        "id": "VPGntgn_6HzE"
      }
    },
    {
      "cell_type": "code",
      "source": [
        "username_df.count()"
      ],
      "metadata": {
        "colab": {
          "base_uri": "https://localhost:8080/"
        },
        "id": "Qmk1blM94dc8",
        "outputId": "31ce9e1a-f2b9-4934-901d-ed79e77a5c35"
      },
      "execution_count": null,
      "outputs": [
        {
          "output_type": "execute_result",
          "data": {
            "text/plain": [
              "5"
            ]
          },
          "metadata": {},
          "execution_count": 9
        }
      ]
    },
    {
      "cell_type": "markdown",
      "source": [
        "### Sample Filtering of dataframe"
      ],
      "metadata": {
        "id": "tkX-1uo96LGg"
      }
    },
    {
      "cell_type": "code",
      "source": [
        "df_filtered = username_df.filter(username_df[\"Identifier\"] > 1002)"
      ],
      "metadata": {
        "id": "eG7GTUZt4iXT"
      },
      "execution_count": null,
      "outputs": []
    },
    {
      "cell_type": "code",
      "source": [
        "df_filtered.show()"
      ],
      "metadata": {
        "colab": {
          "base_uri": "https://localhost:8080/"
        },
        "id": "Dd3ehuD14pXr",
        "outputId": "bc7dcd46-d00c-49c2-f144-c43425926add"
      },
      "execution_count": null,
      "outputs": [
        {
          "output_type": "stream",
          "name": "stdout",
          "text": [
            "+---------------+----------+----------+---------+\n",
            "|       Username|Identifier|First Name|Last Name|\n",
            "+---------------+----------+----------+---------+\n",
            "|    ironlord982|      1003|     Linux| Cromwell|\n",
            "|  skyrimlord023|      1004| Cassandra|    Ramos|\n",
            "|wannabefortnite|      1005|    Joseph|   Pandas|\n",
            "|    smithSummer|      1006|    Tensor|     Flow|\n",
            "+---------------+----------+----------+---------+\n",
            "\n"
          ]
        }
      ]
    },
    {
      "cell_type": "markdown",
      "source": [
        "What’s the output?"
      ],
      "metadata": {
        "id": "cHU-3NFq6PTw"
      }
    },
    {
      "cell_type": "markdown",
      "source": [
        "**The output will be the data points.**"
      ],
      "metadata": {
        "id": "Ll1KLA814ocv"
      }
    },
    {
      "cell_type": "markdown",
      "source": [
        "### Aggregating and Grouping"
      ],
      "metadata": {
        "id": "aADowrJf6Ruf"
      }
    },
    {
      "cell_type": "code",
      "source": [
        "from pyspark.sql.functions import avg\n",
        "username_df.groupBy(\"Username\").agg(avg(\"Identifier\")).show()"
      ],
      "metadata": {
        "colab": {
          "base_uri": "https://localhost:8080/"
        },
        "id": "w2oY3d2m4yIQ",
        "outputId": "d2786636-9e55-48f8-cdc1-653365ddbb43"
      },
      "execution_count": null,
      "outputs": [
        {
          "output_type": "stream",
          "name": "stdout",
          "text": [
            "+---------------+---------------+\n",
            "|       Username|avg(Identifier)|\n",
            "+---------------+---------------+\n",
            "|wannabefortnite|         1005.0|\n",
            "|  skyrimlord023|         1004.0|\n",
            "|    ironlord982|         1003.0|\n",
            "|  graylooker123|         1002.0|\n",
            "|    smithSummer|         1006.0|\n",
            "+---------------+---------------+\n",
            "\n"
          ]
        }
      ]
    },
    {
      "cell_type": "markdown",
      "source": [
        "Summarize the procedure conducted"
      ],
      "metadata": {
        "id": "YJU4Pnsw6ZlL"
      }
    },
    {
      "cell_type": "markdown",
      "source": [
        "**Initializing a SparkSession, the gateway to all Spark capabilities, was the first step in the process.  Next, a Spark DataFrame was loaded with a CSV file called username.csv.  The DataFrame's row count was determined.  The DataFrame was then filtered to only contain rows with a value of 1002 in the \"Identifier\" column.  Lastly, the data was sorted by \"Username\" and the \"Identifier\" average for each username was determined.**"
      ],
      "metadata": {
        "id": "-WNRDkgC6fX3"
      }
    },
    {
      "cell_type": "markdown",
      "source": [
        "# Supplementary Activity"
      ],
      "metadata": {
        "id": "1ugAzcrO6gDc"
      }
    },
    {
      "cell_type": "markdown",
      "source": [
        "1. Create a dataframe\n",
        "2. Use the old SparkSession instead of creating a new one\n",
        "3. Load the Employee_salaries.csv\n",
        "4. Filter the Employees based on their gender\n",
        "5. Group the Employees based on their Gender and Average their Salaries\n",
        "6. Compute annual salary for each employee.\n",
        "7. Sort the result and display the highest average."
      ],
      "metadata": {
        "id": "gn4pQKOg6p3J"
      }
    },
    {
      "cell_type": "markdown",
      "source": [
        "*Note that for each number in the supplementary activity (1-7), provide and explanation of the procedure, output, and/or analysis*"
      ],
      "metadata": {
        "id": "OGSE-Xi77CTA"
      }
    },
    {
      "cell_type": "code",
      "source": [
        "#1 Create a dataframe\n",
        "employee_df = my_spark.read.csv(\"/content/Employee_Salaries.csv\", header=True, inferSchema=True)"
      ],
      "metadata": {
        "id": "GGplkhJo6zEl",
        "colab": {
          "base_uri": "https://localhost:8080/"
        },
        "outputId": "0dc5cebc-42bb-4210-f41f-6823d0e4a05b"
      },
      "execution_count": null,
      "outputs": [
        {
          "output_type": "stream",
          "name": "stdout",
          "text": [
            "+----------+--------------------+--------------------+------+-----------+------------+-------------+-----+\n",
            "|Department|     Department_Name|            Division|Gender|Base_Salary|Overtime_Pay|Longevity_Pay|Grade|\n",
            "+----------+--------------------+--------------------+------+-----------+------------+-------------+-----+\n",
            "|       ABS|Alcohol Beverage ...|ABS 85 Administra...|     M|   175873.0|         0.0|          0.0|   M2|\n",
            "|       ABS|Alcohol Beverage ...|ABS 85 Administra...|     M|  145613.36|         0.0|          0.0|   M3|\n",
            "|       ABS|Alcohol Beverage ...|ABS 85 Administra...|     F|   136970.0|         0.0|          0.0|   M3|\n",
            "|       ABS|Alcohol Beverage ...|ABS 85 Administra...|     F|  89432.694|         0.0|       2490.0|   21|\n",
            "|       ABS|Alcohol Beverage ...|ABS 85 Administra...|     F|    78947.0|      456.68|       6257.7|   16|\n",
            "|       ABS|Alcohol Beverage ...|ABS 85 Administra...|     F|    98228.0|       518.8|       998.28|   21|\n",
            "|       ABS|Alcohol Beverage ...|ABS 85 Administra...|     F| 82405.3864|       549.2|          0.0|   18|\n",
            "|       ABS|Alcohol Beverage ...|ABS 85 Administra...|     M|    93986.0|     1187.06|      2452.94|  N20|\n",
            "|       ABS|Alcohol Beverage ...|ABS 85 Administra...|     F|  149464.15|         0.0|      9021.82|   18|\n",
            "|       ABS|Alcohol Beverage ...|ABS 85 Administra...|     M|   117424.0|         0.0|          0.0|  N25|\n",
            "|       ABS|Alcohol Beverage ...|ABS 85 Administra...|     F|   82808.28|    11870.82|          0.0|   21|\n",
            "|       ABS|Alcohol Beverage ...|ABS 85 Administra...|     M| 65961.8438|      2092.7|          0.0|   13|\n",
            "|       ABS|Alcohol Beverage ...|ABS 85 Administra...|     M|   59288.86|     1013.01|          0.0|   13|\n",
            "|       ABS|Alcohol Beverage ...|ABS 85 Administra...|     M|  139407.15|         0.0|          0.0|   M3|\n",
            "|       ABS|Alcohol Beverage ...|ABS 85 Administra...|     F|   128531.0|         0.0|          0.0|  N27|\n",
            "|       ABS|Alcohol Beverage ...|ABS 85 Administra...|     M|  152632.07|         0.0|          0.0|   M3|\n",
            "|       ABS|Alcohol Beverage ...|ABS 85 Administra...|     F| 73955.2951|     3509.43|          0.0|   16|\n",
            "|       ABS|Alcohol Beverage ...|ABS 85 Administra...|     M|   117424.0|         0.0|          0.0|  N25|\n",
            "|       ABS|Alcohol Beverage ...|ABS 85 Administra...|     M|   117424.0|         0.0|          0.0|  N25|\n",
            "|       ABS|Alcohol Beverage ...|ABS 85 Administra...|     F| 110572.155|         0.0|          0.0|  N26|\n",
            "+----------+--------------------+--------------------+------+-----------+------------+-------------+-----+\n",
            "only showing top 20 rows\n",
            "\n"
          ]
        }
      ]
    },
    {
      "cell_type": "markdown",
      "source": [
        "**Observation:** I create a dataframe and then indicate the file path."
      ],
      "metadata": {
        "id": "rT-kaTPzpLpG"
      }
    },
    {
      "cell_type": "code",
      "source": [
        "#2 use the old SparkSession instead creating of a new one\n",
        "from pyspark.sql import SparkSession\n",
        "my_spark = SparkSession.builder.appName(\"my_spark\").getOrCreate()\n",
        "print(my_spark)"
      ],
      "metadata": {
        "colab": {
          "base_uri": "https://localhost:8080/"
        },
        "id": "SZ6DJiHXovdG",
        "outputId": "4017b971-a374-4338-812b-dfff73331065"
      },
      "execution_count": null,
      "outputs": [
        {
          "output_type": "stream",
          "name": "stdout",
          "text": [
            "<pyspark.sql.session.SparkSession object at 0x78e4ac18a110>\n"
          ]
        }
      ]
    },
    {
      "cell_type": "markdown",
      "source": [
        "**Observation:** i use the old spark session that I use in the procedure."
      ],
      "metadata": {
        "id": "qAxsfOPipMk-"
      }
    },
    {
      "cell_type": "code",
      "source": [
        "#3 Load the Employee_salaries.csv\n",
        "employee_df.show()"
      ],
      "metadata": {
        "colab": {
          "base_uri": "https://localhost:8080/"
        },
        "id": "wu7n7x_CnSRP",
        "outputId": "65ad10ba-42bb-4bac-a56a-2517c82618dc"
      },
      "execution_count": null,
      "outputs": [
        {
          "output_type": "stream",
          "name": "stdout",
          "text": [
            "+----------+--------------------+--------------------+------+-----------+------------+-------------+-----+\n",
            "|Department|     Department_Name|            Division|Gender|Base_Salary|Overtime_Pay|Longevity_Pay|Grade|\n",
            "+----------+--------------------+--------------------+------+-----------+------------+-------------+-----+\n",
            "|       ABS|Alcohol Beverage ...|ABS 85 Administra...|     M|   175873.0|         0.0|          0.0|   M2|\n",
            "|       ABS|Alcohol Beverage ...|ABS 85 Administra...|     M|  145613.36|         0.0|          0.0|   M3|\n",
            "|       ABS|Alcohol Beverage ...|ABS 85 Administra...|     F|   136970.0|         0.0|          0.0|   M3|\n",
            "|       ABS|Alcohol Beverage ...|ABS 85 Administra...|     F|  89432.694|         0.0|       2490.0|   21|\n",
            "|       ABS|Alcohol Beverage ...|ABS 85 Administra...|     F|    78947.0|      456.68|       6257.7|   16|\n",
            "|       ABS|Alcohol Beverage ...|ABS 85 Administra...|     F|    98228.0|       518.8|       998.28|   21|\n",
            "|       ABS|Alcohol Beverage ...|ABS 85 Administra...|     F| 82405.3864|       549.2|          0.0|   18|\n",
            "|       ABS|Alcohol Beverage ...|ABS 85 Administra...|     M|    93986.0|     1187.06|      2452.94|  N20|\n",
            "|       ABS|Alcohol Beverage ...|ABS 85 Administra...|     F|  149464.15|         0.0|      9021.82|   18|\n",
            "|       ABS|Alcohol Beverage ...|ABS 85 Administra...|     M|   117424.0|         0.0|          0.0|  N25|\n",
            "|       ABS|Alcohol Beverage ...|ABS 85 Administra...|     F|   82808.28|    11870.82|          0.0|   21|\n",
            "|       ABS|Alcohol Beverage ...|ABS 85 Administra...|     M| 65961.8438|      2092.7|          0.0|   13|\n",
            "|       ABS|Alcohol Beverage ...|ABS 85 Administra...|     M|   59288.86|     1013.01|          0.0|   13|\n",
            "|       ABS|Alcohol Beverage ...|ABS 85 Administra...|     M|  139407.15|         0.0|          0.0|   M3|\n",
            "|       ABS|Alcohol Beverage ...|ABS 85 Administra...|     F|   128531.0|         0.0|          0.0|  N27|\n",
            "|       ABS|Alcohol Beverage ...|ABS 85 Administra...|     M|  152632.07|         0.0|          0.0|   M3|\n",
            "|       ABS|Alcohol Beverage ...|ABS 85 Administra...|     F| 73955.2951|     3509.43|          0.0|   16|\n",
            "|       ABS|Alcohol Beverage ...|ABS 85 Administra...|     M|   117424.0|         0.0|          0.0|  N25|\n",
            "|       ABS|Alcohol Beverage ...|ABS 85 Administra...|     M|   117424.0|         0.0|          0.0|  N25|\n",
            "|       ABS|Alcohol Beverage ...|ABS 85 Administra...|     F| 110572.155|         0.0|          0.0|  N26|\n",
            "+----------+--------------------+--------------------+------+-----------+------------+-------------+-----+\n",
            "only showing top 20 rows\n",
            "\n"
          ]
        }
      ]
    },
    {
      "cell_type": "markdown",
      "source": [
        "**Observation:** I loaded my dataframe the using the function employee_df.show()"
      ],
      "metadata": {
        "id": "x7UpgnVVpNL2"
      }
    },
    {
      "cell_type": "code",
      "source": [
        "#4 Filter the Employees based on their gender\n",
        "employee_df.filter(employee_df[\"Gender\"] == \"M\").show()\n",
        "employee_df.filter(employee_df[\"Gender\"] == \"F\").show()"
      ],
      "metadata": {
        "colab": {
          "base_uri": "https://localhost:8080/"
        },
        "id": "licEKnd9nc5G",
        "outputId": "de6654bc-dfa1-4db4-e3ab-9d70388e6e2e"
      },
      "execution_count": null,
      "outputs": [
        {
          "output_type": "stream",
          "name": "stdout",
          "text": [
            "+----------+--------------------+--------------------+------+-----------+------------+-------------+-----+\n",
            "|Department|     Department_Name|            Division|Gender|Base_Salary|Overtime_Pay|Longevity_Pay|Grade|\n",
            "+----------+--------------------+--------------------+------+-----------+------------+-------------+-----+\n",
            "|       ABS|Alcohol Beverage ...|ABS 85 Administra...|     M|   175873.0|         0.0|          0.0|   M2|\n",
            "|       ABS|Alcohol Beverage ...|ABS 85 Administra...|     M|  145613.36|         0.0|          0.0|   M3|\n",
            "|       ABS|Alcohol Beverage ...|ABS 85 Administra...|     M|    93986.0|     1187.06|      2452.94|  N20|\n",
            "|       ABS|Alcohol Beverage ...|ABS 85 Administra...|     M|   117424.0|         0.0|          0.0|  N25|\n",
            "|       ABS|Alcohol Beverage ...|ABS 85 Administra...|     M| 65961.8438|      2092.7|          0.0|   13|\n",
            "|       ABS|Alcohol Beverage ...|ABS 85 Administra...|     M|   59288.86|     1013.01|          0.0|   13|\n",
            "|       ABS|Alcohol Beverage ...|ABS 85 Administra...|     M|  139407.15|         0.0|          0.0|   M3|\n",
            "|       ABS|Alcohol Beverage ...|ABS 85 Administra...|     M|  152632.07|         0.0|          0.0|   M3|\n",
            "|       ABS|Alcohol Beverage ...|ABS 85 Administra...|     M|   117424.0|         0.0|          0.0|  N25|\n",
            "|       ABS|Alcohol Beverage ...|ABS 85 Administra...|     M|   117424.0|         0.0|          0.0|  N25|\n",
            "|       ABS|Alcohol Beverage ...|ABS 85 Beer Deliv...|     M|    61240.0|     5294.68|       995.18|   10|\n",
            "|       ABS|Alcohol Beverage ...|ABS 85 Beer Deliv...|     M|    61240.0|       92.35|       4827.4|   10|\n",
            "|       ABS|Alcohol Beverage ...|ABS 85 Beer Deliv...|     M|    86103.0|    23917.44|      3665.64|  N18|\n",
            "|       ABS|Alcohol Beverage ...|ABS 85 Beer Deliv...|     M|    61240.0|     9580.78|        459.3|   10|\n",
            "|       ABS|Alcohol Beverage ...|ABS 85 Beer Deliv...|     M|    86103.0|     3165.46|      3665.65|  N18|\n",
            "|       ABS|Alcohol Beverage ...|ABS 85 Beer Deliv...|     M| 75086.4937|     6857.37|          0.0|   15|\n",
            "|       ABS|Alcohol Beverage ...|ABS 85 Beer Deliv...|     M| 81931.2453|    24672.86|          0.0|  N18|\n",
            "|       ABS|Alcohol Beverage ...|ABS 85 Beer Deliv...|     M|    75621.0|     2065.26|      3471.32|   15|\n",
            "|       ABS|Alcohol Beverage ...|ABS 85 Beer Deliv...|     M|  75621.002|     4453.91|      3572.85|   15|\n",
            "|       ABS|Alcohol Beverage ...|ABS 85 Beer Deliv...|     M|    75621.0|    10989.68|      3436.83|   15|\n",
            "+----------+--------------------+--------------------+------+-----------+------------+-------------+-----+\n",
            "only showing top 20 rows\n",
            "\n",
            "+----------+--------------------+--------------------+------+-----------+------------+-------------+-----+\n",
            "|Department|     Department_Name|            Division|Gender|Base_Salary|Overtime_Pay|Longevity_Pay|Grade|\n",
            "+----------+--------------------+--------------------+------+-----------+------------+-------------+-----+\n",
            "|       ABS|Alcohol Beverage ...|ABS 85 Administra...|     F|   136970.0|         0.0|          0.0|   M3|\n",
            "|       ABS|Alcohol Beverage ...|ABS 85 Administra...|     F|  89432.694|         0.0|       2490.0|   21|\n",
            "|       ABS|Alcohol Beverage ...|ABS 85 Administra...|     F|    78947.0|      456.68|       6257.7|   16|\n",
            "|       ABS|Alcohol Beverage ...|ABS 85 Administra...|     F|    98228.0|       518.8|       998.28|   21|\n",
            "|       ABS|Alcohol Beverage ...|ABS 85 Administra...|     F| 82405.3864|       549.2|          0.0|   18|\n",
            "|       ABS|Alcohol Beverage ...|ABS 85 Administra...|     F|  149464.15|         0.0|      9021.82|   18|\n",
            "|       ABS|Alcohol Beverage ...|ABS 85 Administra...|     F|   82808.28|    11870.82|          0.0|   21|\n",
            "|       ABS|Alcohol Beverage ...|ABS 85 Administra...|     F|   128531.0|         0.0|          0.0|  N27|\n",
            "|       ABS|Alcohol Beverage ...|ABS 85 Administra...|     F| 73955.2951|     3509.43|          0.0|   16|\n",
            "|       ABS|Alcohol Beverage ...|ABS 85 Administra...|     F| 110572.155|         0.0|          0.0|  N26|\n",
            "|       ABS|Alcohol Beverage ...| ABS 85 Beer Loading|     F|    76668.0|     3226.55|          0.0|   12|\n",
            "|       ABS|Alcohol Beverage ...|ABS 85 Beer Wareh...|     F|  56922.265|     6156.95|          0.0|   13|\n",
            "|       ABS|Alcohol Beverage ...|ABS 85 Licensure,...|     F|  166140.03|         0.0|          0.0|   M2|\n",
            "|       ABS|Alcohol Beverage ...|ABS 85 Licensure,...|     F| 99335.0745|     1540.34|          0.0|   22|\n",
            "|       ABS|Alcohol Beverage ...|ABS 85 Licensure,...|     F|  94334.247|         0.0|          0.0|  N25|\n",
            "|       ABS|Alcohol Beverage ...|ABS 85 Licensure,...|     F|    98349.0|         0.0|          0.0|   22|\n",
            "|       ABS|Alcohol Beverage ...|ABS 85 Licensure,...|     F|    64633.0|         0.0|          0.0|   16|\n",
            "|       ABS|Alcohol Beverage ...|ABS 85 Licensure,...|     F|    54583.0|         0.0|          0.0|   18|\n",
            "|       ABS|Alcohol Beverage ...| ABS 85 Burtonsville|     F| 47447.9101|     1302.22|          0.0|   12|\n",
            "|       ABS|Alcohol Beverage ...| ABS 85 Burtonsville|     F| 58239.9985|      536.86|          0.0|   14|\n",
            "+----------+--------------------+--------------------+------+-----------+------------+-------------+-----+\n",
            "only showing top 20 rows\n",
            "\n"
          ]
        }
      ]
    },
    {
      "cell_type": "markdown",
      "source": [
        "**Observation:** I use two functions to filter the gender in my dataframe."
      ],
      "metadata": {
        "id": "XrhIDKUapN-u"
      }
    },
    {
      "cell_type": "code",
      "source": [
        "#5 Group the Employees based on their Gender and Average their Salaries\n",
        "from pyspark.sql.functions import avg\n",
        "employee_df.groupBy(\"Gender\").agg(avg(\"Base_Salary\")).show()"
      ],
      "metadata": {
        "colab": {
          "base_uri": "https://localhost:8080/"
        },
        "id": "H09cMrj8n-AH",
        "outputId": "4efa9a2c-42b2-49db-b879-93d808c22ab6"
      },
      "execution_count": null,
      "outputs": [
        {
          "output_type": "stream",
          "name": "stdout",
          "text": [
            "+------+-----------------+\n",
            "|Gender| avg(Base_Salary)|\n",
            "+------+-----------------+\n",
            "|     F|87497.50279041701|\n",
            "|     M|92382.92975236966|\n",
            "+------+-----------------+\n",
            "\n"
          ]
        }
      ]
    },
    {
      "cell_type": "markdown",
      "source": [
        "**Observation:** I add all the base salary of an employee to get the average salaries of the male and female employees."
      ],
      "metadata": {
        "id": "GwXA1AF3pPGv"
      }
    },
    {
      "cell_type": "code",
      "source": [
        "#6 Compute annual salary for each employee.\n",
        "employee_df = employee_df.withColumn(\"Annual_Salary\", employee_df[\"Base_Salary\"] * 12)\n",
        "employee_df.show()"
      ],
      "metadata": {
        "colab": {
          "base_uri": "https://localhost:8080/"
        },
        "id": "AR87gTQ5oSD_",
        "outputId": "8e80fd65-add9-463f-d2bd-8040abf4dcba"
      },
      "execution_count": null,
      "outputs": [
        {
          "output_type": "stream",
          "name": "stdout",
          "text": [
            "+----------+--------------------+--------------------+------+-----------+------------+-------------+-----+------------------+\n",
            "|Department|     Department_Name|            Division|Gender|Base_Salary|Overtime_Pay|Longevity_Pay|Grade|     Annual_Salary|\n",
            "+----------+--------------------+--------------------+------+-----------+------------+-------------+-----+------------------+\n",
            "|       ABS|Alcohol Beverage ...|ABS 85 Administra...|     M|   175873.0|         0.0|          0.0|   M2|         2110476.0|\n",
            "|       ABS|Alcohol Beverage ...|ABS 85 Administra...|     M|  145613.36|         0.0|          0.0|   M3|1747360.3199999998|\n",
            "|       ABS|Alcohol Beverage ...|ABS 85 Administra...|     F|   136970.0|         0.0|          0.0|   M3|         1643640.0|\n",
            "|       ABS|Alcohol Beverage ...|ABS 85 Administra...|     F|  89432.694|         0.0|       2490.0|   21|       1073192.328|\n",
            "|       ABS|Alcohol Beverage ...|ABS 85 Administra...|     F|    78947.0|      456.68|       6257.7|   16|          947364.0|\n",
            "|       ABS|Alcohol Beverage ...|ABS 85 Administra...|     F|    98228.0|       518.8|       998.28|   21|         1178736.0|\n",
            "|       ABS|Alcohol Beverage ...|ABS 85 Administra...|     F| 82405.3864|       549.2|          0.0|   18|       988864.6368|\n",
            "|       ABS|Alcohol Beverage ...|ABS 85 Administra...|     M|    93986.0|     1187.06|      2452.94|  N20|         1127832.0|\n",
            "|       ABS|Alcohol Beverage ...|ABS 85 Administra...|     F|  149464.15|         0.0|      9021.82|   18|1793569.7999999998|\n",
            "|       ABS|Alcohol Beverage ...|ABS 85 Administra...|     M|   117424.0|         0.0|          0.0|  N25|         1409088.0|\n",
            "|       ABS|Alcohol Beverage ...|ABS 85 Administra...|     F|   82808.28|    11870.82|          0.0|   21|         993699.36|\n",
            "|       ABS|Alcohol Beverage ...|ABS 85 Administra...|     M| 65961.8438|      2092.7|          0.0|   13|       791542.1256|\n",
            "|       ABS|Alcohol Beverage ...|ABS 85 Administra...|     M|   59288.86|     1013.01|          0.0|   13| 711466.3200000001|\n",
            "|       ABS|Alcohol Beverage ...|ABS 85 Administra...|     M|  139407.15|         0.0|          0.0|   M3|1672885.7999999998|\n",
            "|       ABS|Alcohol Beverage ...|ABS 85 Administra...|     F|   128531.0|         0.0|          0.0|  N27|         1542372.0|\n",
            "|       ABS|Alcohol Beverage ...|ABS 85 Administra...|     M|  152632.07|         0.0|          0.0|   M3|        1831584.84|\n",
            "|       ABS|Alcohol Beverage ...|ABS 85 Administra...|     F| 73955.2951|     3509.43|          0.0|   16| 887463.5412000001|\n",
            "|       ABS|Alcohol Beverage ...|ABS 85 Administra...|     M|   117424.0|         0.0|          0.0|  N25|         1409088.0|\n",
            "|       ABS|Alcohol Beverage ...|ABS 85 Administra...|     M|   117424.0|         0.0|          0.0|  N25|         1409088.0|\n",
            "|       ABS|Alcohol Beverage ...|ABS 85 Administra...|     F| 110572.155|         0.0|          0.0|  N26|1326865.8599999999|\n",
            "+----------+--------------------+--------------------+------+-----------+------------+-------------+-----+------------------+\n",
            "only showing top 20 rows\n",
            "\n"
          ]
        }
      ]
    },
    {
      "cell_type": "markdown",
      "source": [
        "**Observation:** I simply do arithmetic by multiplying the base salary of the employee to 12 months to get the annual salary of each employee."
      ],
      "metadata": {
        "id": "pF9wAWEKqDk-"
      }
    },
    {
      "cell_type": "code",
      "source": [
        "#7 Sort the result and display the highest average.\n",
        "employee_df.orderBy(\"Annual_Salary\", ascending=False).show()"
      ],
      "metadata": {
        "colab": {
          "base_uri": "https://localhost:8080/"
        },
        "id": "EVtLV85xojqe",
        "outputId": "5dd68f20-3100-4465-8e0f-711181d74d38"
      },
      "execution_count": null,
      "outputs": [
        {
          "output_type": "stream",
          "name": "stdout",
          "text": [
            "+----------+--------------------+--------------------+------+-----------+------------+-------------+-----+-------------+\n",
            "|Department|     Department_Name|            Division|Gender|Base_Salary|Overtime_Pay|Longevity_Pay|Grade|Annual_Salary|\n",
            "+----------+--------------------+--------------------+------+-----------+------------+-------------+-----+-------------+\n",
            "|       CEX|Offices of the Co...|CEX 15 Chief Admi...|     M|   292000.0|         0.0|          0.0|  EX0|    3504000.0|\n",
            "|       CAT|County Attorney's...|CAT 30 County Att...|     M|   258000.0|         0.0|          0.0|  EX1|    3096000.0|\n",
            "|       POL|Department of Police|POL 47 HQ Police ...|     M|   258000.0|         0.0|          0.0|  EX1|    3096000.0|\n",
            "|       CCL|      County Council|CCL 01 Council Ce...|     F|  246162.47|         0.0|          0.0| NULL|   2953949.64|\n",
            "|       DGS|Department of Gen...|     DGS 36 Director|     M|   246000.0|         0.0|          0.0|  EX1|    2952000.0|\n",
            "|       DOT|Department of Tra...|     DOT 50 Director|     M|   244000.0|         0.0|          0.0|  EX1|    2928000.0|\n",
            "|       HHS|Department of Hea...|HHS 60 Director's...|     M|   240000.0|         0.0|          0.0|  EX1|    2880000.0|\n",
            "|       FIN|Department of Fin...|     FIN 32 Director|     M|   236000.0|         0.0|          0.0|  EX1|    2832000.0|\n",
            "|       ABS|Alcohol Beverage ...|     ABS 85 Director|     F|   236000.0|         0.0|          0.0|  EX1|    2832000.0|\n",
            "|       OMB|Office of Managem...|OMB 31 Office of ...|     F|   236000.0|         0.0|          0.0|  EX1|    2832000.0|\n",
            "|       PRO|Office of Procure...|PRO 35 Procuremen...|     M|   236000.0|         0.0|          0.0|  EX1|    2832000.0|\n",
            "|       HHS|Department of Hea...|HHS 60 Behavioral...|     M|   233329.0|         0.0|      2293.44|  MD4|    2799948.0|\n",
            "|       IGR|Office of Intergo...|     IGR 20 Director|     F|   232000.0|         0.0|          0.0|  EX1|    2784000.0|\n",
            "|       CEX|Offices of the Co...|CEX 15 County Exe...|     M|  231915.07|         0.0|          0.0| NULL|   2782980.84|\n",
            "|       TBS|Department of Tec...|TBS 34 CIO Chief ...|     F|   227000.0|         0.0|          0.0|  EX1|    2724000.0|\n",
            "|       OHR|Office of Human R...|     OHR 33 Director|     F|   226000.0|         0.0|          0.0|  EX1|    2712000.0|\n",
            "|       DEP|Department of Env...|     DEP 80 Director|     M|   225000.0|         0.0|          0.0|  EX1|    2700000.0|\n",
            "|       LIB|Department of Pub...|LIB 71 Director's...|     F|   224000.0|         0.0|          0.0|  EX1|    2688000.0|\n",
            "|       COR|Correction and Re...|  COR 42 DO Director|     M|   221000.0|         0.0|          0.0|  EX1|    2652000.0|\n",
            "|       HHS|Department of Hea...|HHS 60 Director's...|     M|   220000.0|         0.0|          0.0|  EX1|    2640000.0|\n",
            "+----------+--------------------+--------------------+------+-----------+------------+-------------+-----+-------------+\n",
            "only showing top 20 rows\n",
            "\n"
          ]
        }
      ]
    },
    {
      "cell_type": "markdown",
      "source": [
        "**Observation:** I sort the average of each employee from descending order."
      ],
      "metadata": {
        "id": "CavxvmpBqEMG"
      }
    },
    {
      "cell_type": "markdown",
      "source": [
        "# HOA Conclusion"
      ],
      "metadata": {
        "id": "swyC_Zk96rvy"
      }
    },
    {
      "cell_type": "markdown",
      "source": [
        "**I have effectively set up a PySpark environment in Google Colab based on the practical exercises, exhibiting a fundamental comprehension of distributed data processing. I have examined how PySpark manages data processing by building and modifying Spark DataFrames, observing its effectiveness in comparison to conventional techniques. By executing procedures on the supplied datasets, I have additionally assessed the advantages of distributed computing. I've successfully loaded data, filtered it, and carried out aggregations to establish a simple data processing workflow. I have thereby achieved all of the activity's goals.**"
      ],
      "metadata": {
        "id": "QsZDae4-6wRH"
      }
    }
  ]
}